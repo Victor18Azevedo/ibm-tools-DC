{
 "cells": [
  {
   "cell_type": "markdown",
   "metadata": {},
   "source": [
    "<center>\n",
    "    <img src=\"https://s3-api.us-geo.objectstorage.softlayer.net/cf-courses-data/CognitiveClass/Logos/organization_logo/organization_logo.png\" width=\"300\" alt=\"cognitiveclass.ai logo\"  />\n",
    "</center>\n"
   ]
  },
  {
   "cell_type": "markdown",
   "metadata": {},
   "source": [
    "#### Add your code below following the instructions given in the course\n"
   ]
  },
  {
   "cell_type": "markdown",
   "metadata": {},
   "source": [
    "# My Jupyter Notebook on IBM Watson Studio"
   ]
  },
  {
   "cell_type": "markdown",
   "metadata": {},
   "source": [
    "**Jose Victor Cavalcante Azevedo**\n",
    "\n",
    "Student Data Science"
   ]
  },
  {
   "cell_type": "markdown",
   "metadata": {},
   "source": [
    "*I am interested in data science because I love sci-ficction, Inteligence Artificial,Robotics and Machine Learnings*"
   ]
  },
  {
   "cell_type": "markdown",
   "metadata": {},
   "source": [
    "### The below should multiply the number 5 by 4"
   ]
  },
  {
   "cell_type": "code",
   "execution_count": 3,
   "metadata": {},
   "outputs": [
    {
     "data": {
      "text/plain": [
       "20"
      ]
     },
     "execution_count": 3,
     "metadata": {},
     "output_type": "execute_result"
    }
   ],
   "source": [
    "5 * 4"
   ]
  },
  {
   "cell_type": "markdown",
   "metadata": {},
   "source": [
    "Follows a summary of an article written by: *Rob Thomas*.\n",
    "\n",
    "## Watson Anywhere: The Future\n",
    "\n",
    "\n",
    "This article begins by discussing that although AI represents a great economic opportunity, its adoption by companies is still small. For reasons like:\n",
    "* lack of skills;\n",
    "* lack of tools; lack of confidence;\n",
    "* cultural.\n",
    "\n",
    "Many of the companies are not yet ready for the investment in AI thinking that it will commit a lot of people, time and money, but the author states that:\n",
    "> AI is about mass experimentation, not one big project implementation. This ain’t ERP.\n",
    "\n",
    "The author goes on to state the importance of AI and the importance that Watson can improve customer service, the retail experience, medical information, avoid food shortages, customer service. The importance of companies being confident when using AI tools.\n",
    "\n",
    "About current customers who use IBM services, he cites the most common use cases:\n",
    "![ the most common use cases, by industry](https://www.ibm.com/blogs/think/wp-content/uploads/2019/10/Watson-Sketch-Rob-Thomas-800.png)\n",
    "\n",
    "\n",
    "You can access the full [here](https://www.ibm.com/blogs/think/2019/10/watson-anywhere-the-future/)."
   ]
  },
  {
   "cell_type": "code",
   "execution_count": null,
   "metadata": {},
   "outputs": [],
   "source": []
  }
 ],
 "metadata": {
  "kernelspec": {
   "display_name": "Python 3 (ipykernel)",
   "language": "python",
   "name": "python3"
  },
  "language_info": {
   "codemirror_mode": {
    "name": "ipython",
    "version": 3
   },
   "file_extension": ".py",
   "mimetype": "text/x-python",
   "name": "python",
   "nbconvert_exporter": "python",
   "pygments_lexer": "ipython3",
   "version": "3.9.7"
  }
 },
 "nbformat": 4,
 "nbformat_minor": 4
}
